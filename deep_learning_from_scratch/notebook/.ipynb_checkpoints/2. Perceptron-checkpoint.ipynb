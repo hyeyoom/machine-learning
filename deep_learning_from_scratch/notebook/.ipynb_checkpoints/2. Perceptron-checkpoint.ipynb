{
 "cells": [
  {
   "cell_type": "markdown",
   "metadata": {},
   "source": [
    "# Intro.\n",
    "\n",
    "퍼셉트론은 이진 분류기(binary classifier) 지도 학습을 위한 알고리즘이다.  \n",
    "이진 분류기란 특정 분류에 속하는 벡터로 표현되는 입력을 결정하는 함수이다.  \n",
    "이는 선형 분류기(Linear classfier)의 일종으로, 피쳐 벡터(feature vector)의 가중치 집합으로 결합된 분류 알고리즘이다."
   ]
  },
  {
   "cell_type": "markdown",
   "metadata": {},
   "source": [
    "# 1. 그래서 퍼셉트론이란?\n",
    "\n",
    "퍼셉트론은 다수의 입력을 받아 하나의 신호를 출력한다. 여기서 출력은 0과 1 즉, 안 흐른다/흐른다로 구분된다.  \n",
    "\n",
    "![사진](./assets/02/1.jpg)\n",
    "\n",
    "여기서는 입력이 두 개인 퍼셉트론에 대해 생각해보자.\n",
    "\n",
    "위 그림에서 x1, x2만 보면 되고 시그마가 있는 부분이 출력부라고 생각해보자. 그리고 각 간선에는 가중치 w1, w2가 부여되어 있다고 생각해보자.\n",
    "\n",
    "여기서 저 원들은 뉴런(or 노드)이고, 간선에 붙어 있는 것들이 가중치이다. 그리고 이 각 뉴런에서 전달된 신호의 총합이 설정된 한계(임계값, theta)를 넘을 때만 1을 출력(활성화)한다고 해보자.  \n",
    "\n",
    "이는 수식으로 다음과 같이 표현할 수 있다.\n",
    "\n",
    "```\n",
    "0 if (w1x1 + w2x2 <= theta)\n",
    "1 if (w1x1 + w2x2 > theta)\n",
    "```\n",
    "\n",
    "이 책은 잘못 없지만 자칫 가볍게 넘어갈 수 있는 부분이 바로 저 수식이다. 퍼셉트론의 일반화 된 식은 다음과 같다.\n",
    "\n",
    "![사실 내적이란다](./assets/02/2.png)\n",
    "\n",
    "가중치와 벡터의 내적이였던 것이다. 하지만 이것만 보고는 갸우뚱할 것이다. 내적은 기하학적으로 다음과 같은 의미를 가진다.  \n",
    "\n",
    "- 두 벡터가 내적했을 때 0이면 직교(orthogonal)\n",
    "- 90도를 넘으면 음수, 아니면 양수\n",
    "\n",
    "단순한 계산만으로 두 벡터의 방향을 쉽게 파악할 수 있다. 그래도 여전히 뭐어쩌라는거냐 하는 생각이 들텐데, 이게 사실 파라미터 공간에서 값을 찾아가는 원리가 된다."
   ]
  },
  {
   "cell_type": "markdown",
   "metadata": {},
   "source": [
    "# 2. 논리회로\n",
    "\n",
    "and, or, nand와 같은 단순한 회로들에 대해 생각하면서 사고를 확장해보자.\n",
    "\n",
    "## 2.1. 진리표와 게이트\n",
    "\n",
    "AND gate는 다음과 같은 규칙을 가진다. 참고로 다음 소개할 표를 진리표라고 부른다.  \n",
    "\n",
    "|x1|x2|y(output)|\n",
    "|-|-|-|\n",
    "|0|0|0|\n",
    "|1|0|0|\n",
    "|0|1|0|\n",
    "|1|1|1|\n",
    "\n",
    "이 친구를 학습하는 퍼셉트론을 만들기 위해서 앞서 소개했던 간단 버전 식에 어떤 가중치와 임계값을 세팅해야될까?\n",
    "\n",
    "![얘! 선을 잘 그어보렴](./assets/02/3.png)\n",
    "\n",
    "직선을 잘 그어보면 된다. 직선을 그어서 0인 친구들과 1인 친구들을 구분할 수 있는 직선의 방정식에 해당되는 값이라면 모두 가능하다. 그리고 이 그은 선을 경계로 구분하는 행위가 바로 분류다.  \n",
    "\n",
    "NAND gate의 진리표는 다음과 같다.  \n",
    "\n",
    "|x1|x2|y(output)|\n",
    "|-|-|-|\n",
    "|0|0|1|\n",
    "|1|0|1|\n",
    "|0|1|1|\n",
    "|1|1|0|\n",
    "\n",
    "AND와 정 반대의 아웃풋이 나오는데 NAND의 의미가 negative-AND이다.  \n",
    "\n",
    "OR게이트도 보자.  \n",
    "\n",
    "|x1|x2|y(output)|\n",
    "|-|-|-|\n",
    "|0|0|0|\n",
    "|1|0|1|\n",
    "|0|1|1|\n",
    "|1|1|1|\n",
    "\n",
    "이 친구들은 모두 직선을 그어서 분류할 수 있는 아주 착한 친구들이다."
   ]
  },
  {
   "cell_type": "markdown",
   "metadata": {},
   "source": [
    "# 3. 퍼셉트론 구현\n",
    "\n",
    "퍼셉트론을 구현해볼 것이다.\n",
    "\n",
    "## 3.1. 간단\n",
    "\n",
    "간단하게 구현하면 다음과 같다."
   ]
  },
  {
   "cell_type": "code",
   "execution_count": 3,
   "metadata": {},
   "outputs": [
    {
     "name": "stdout",
     "output_type": "stream",
     "text": [
      "0\n",
      "0\n",
      "0\n",
      "1\n"
     ]
    }
   ],
   "source": [
    "def AND(x1, x2):\n",
    "    w1, w2, theta = 0.5, 0.5, 0.7\n",
    "    tmp = x1*w1 + x2*w2\n",
    "    if tmp <= theta:\n",
    "        return 0\n",
    "    else:\n",
    "        return 1\n",
    "    \n",
    "print(AND(0, 0))\n",
    "print(AND(1, 0))\n",
    "print(AND(0, 1))\n",
    "print(AND(1, 1))"
   ]
  },
  {
   "cell_type": "markdown",
   "metadata": {},
   "source": [
    "## 3.2. 가중치와 편향 도입\n",
    "\n",
    "앞서 가중치들과 임계값은 각각 0.5와 0.7이였다. 앞서 소개했던 식에서 theta를 이항하여 다음과 같이 정리해보자.\n",
    "\n",
    "```\n",
    "0 if (-theta + w1x1 + w2x2 <= 0)\n",
    "1 if (-theta + w1x1 + w2x2 > 0)\n",
    "```\n",
    "\n",
    "그리고 보기 쉽게 `-theata`를 편향(bias) b라고 퉁치자.  \n",
    "\n",
    "```\n",
    "0 if (b + w1x1 + w2x2 <= 0)\n",
    "1 if (b + w1x1 + w2x2 > 0)\n",
    "```\n",
    "\n",
    "이를 한 번 실습으로 생각해보자."
   ]
  },
  {
   "cell_type": "code",
   "execution_count": 4,
   "metadata": {},
   "outputs": [
    {
     "data": {
      "text/plain": [
       "array([0. , 0.5])"
      ]
     },
     "execution_count": 4,
     "metadata": {},
     "output_type": "execute_result"
    }
   ],
   "source": [
    "import numpy as np\n",
    "x = np.array([0, 1]) # input vector\n",
    "w = np.array([0.5, 0.5]) # weights\n",
    "b = -0.7\n",
    "\n",
    "w*x"
   ]
  },
  {
   "cell_type": "code",
   "execution_count": 5,
   "metadata": {},
   "outputs": [
    {
     "data": {
      "text/plain": [
       "0.5"
      ]
     },
     "execution_count": 5,
     "metadata": {},
     "output_type": "execute_result"
    }
   ],
   "source": [
    "np.sum(w*x)"
   ]
  },
  {
   "cell_type": "code",
   "execution_count": 6,
   "metadata": {},
   "outputs": [
    {
     "data": {
      "text/plain": [
       "-0.19999999999999996"
      ]
     },
     "execution_count": 6,
     "metadata": {},
     "output_type": "execute_result"
    }
   ],
   "source": [
    "np.sum(w*x) + b"
   ]
  },
  {
   "cell_type": "markdown",
   "metadata": {},
   "source": [
    "이 경우는 음수이므로 입력이 0과 1인 경우에는 출력이 0이라는 것을 의미하며 이는 옳다."
   ]
  },
  {
   "cell_type": "markdown",
   "metadata": {},
   "source": [
    "## 3.3. 가중치와 편향 구현\n",
    "\n",
    "간단 구현체를 바꿔보자."
   ]
  },
  {
   "cell_type": "code",
   "execution_count": 7,
   "metadata": {},
   "outputs": [],
   "source": [
    "def AND(x1, x2):\n",
    "    x = np.array([x1, x2])\n",
    "    w = np.array([0.5, 0.5])\n",
    "    b = -0.7\n",
    "    r = np.sum(w*x) + b\n",
    "    if r <= 0:\n",
    "        return 0\n",
    "    else:\n",
    "        return 1"
   ]
  },
  {
   "cell_type": "code",
   "execution_count": 8,
   "metadata": {},
   "outputs": [
    {
     "name": "stdout",
     "output_type": "stream",
     "text": [
      "0\n",
      "0\n",
      "0\n",
      "1\n"
     ]
    }
   ],
   "source": [
    "print(AND(0, 0))\n",
    "print(AND(1, 0))\n",
    "print(AND(0, 1))\n",
    "print(AND(1, 1))"
   ]
  },
  {
   "cell_type": "markdown",
   "metadata": {},
   "source": [
    "- 가중치 - 각각의 입력 신호의 영향력을 조절하는 파라미터\n",
    "- 편향 - 활성화가 얼마나 쉽게 일어나는지 결정\n",
    "\n",
    "이렇게 나머지도 구현해보자."
   ]
  },
  {
   "cell_type": "code",
   "execution_count": 9,
   "metadata": {},
   "outputs": [
    {
     "name": "stdout",
     "output_type": "stream",
     "text": [
      "1\n",
      "1\n",
      "1\n",
      "0\n"
     ]
    }
   ],
   "source": [
    "def NAND(x1, x2):\n",
    "    x = np.array([x1, x2])\n",
    "    w = np.array([-0.5, -0.5])\n",
    "    b = 0.7\n",
    "    r = np.sum(w*x) + b\n",
    "    if r <= 0:\n",
    "        return 0\n",
    "    else:\n",
    "        return 1\n",
    "    \n",
    "print(NAND(0, 0))\n",
    "print(NAND(1, 0))\n",
    "print(NAND(0, 1))\n",
    "print(NAND(1, 1))"
   ]
  },
  {
   "cell_type": "code",
   "execution_count": 10,
   "metadata": {},
   "outputs": [
    {
     "name": "stdout",
     "output_type": "stream",
     "text": [
      "0\n",
      "1\n",
      "1\n",
      "1\n"
     ]
    }
   ],
   "source": [
    "def OR(x1, x2):\n",
    "    x = np.array([x1, x2])\n",
    "    w = np.array([0.5, 0.5])\n",
    "    b = -0.2\n",
    "    r = np.sum(w*x) + b\n",
    "    if r <= 0:\n",
    "        return 0\n",
    "    else:\n",
    "        return 1\n",
    "    \n",
    "print(OR(0, 0))\n",
    "print(OR(1, 0))\n",
    "print(OR(0, 1))\n",
    "print(OR(1, 1))"
   ]
  },
  {
   "cell_type": "markdown",
   "metadata": {},
   "source": [
    "# 4. 하지만 XOR이 등장한다면?\n",
    "\n",
    "앞선 친구들은 직선을 긋고 만족하는 직선의 방정식의 값을 튜닝해주면 아주 간단하게 끝나는 문제였다. 하지만 XOR을 보자.  \n",
    "\n",
    "## 4.1. XOR gate\n",
    "\n",
    "|x1|x2|y(output)|\n",
    "|-|-|-|\n",
    "|0|0|0|\n",
    "|1|0|1|\n",
    "|0|1|1|\n",
    "|1|1|0|\n",
    "\n",
    "음.. 대충 보기엔 별거 없어보인다.  \n",
    "\n",
    "![얘는 무슨 자기가 선을 잘긋는줄 알아!](./assets/02/4.png)\n",
    "\n",
    "직선을 그어서 해결 가능한가?? 불가능하다. 앞선 식으로는 직선 밖에 못긋는다. 그렇다면 어떻게하지?\n",
    "\n",
    "## 4.2. 직선이 아니라면?\n",
    "\n",
    "쌉가능 ㅇㅅㅇ\n",
    "\n",
    "![구분해버렸네! 아이고난1 아이고난2](./assets/02/5.png)\n",
    "\n",
    "이렇게 비선형으로 하면 구분을 할 수 있게되었다."
   ]
  },
  {
   "cell_type": "markdown",
   "metadata": {},
   "source": [
    "# 5. Multi-Layer Perceptron\n",
    "\n",
    "퍼셉트론의 층을 쌓아서 다층으로 만들면 XOR과 같은 문제를 해결할 수 있다.  "
   ]
  },
  {
   "cell_type": "code",
   "execution_count": 11,
   "metadata": {},
   "outputs": [],
   "source": [
    "def XOR(x1, x2):\n",
    "    s1 = NAND(x1, x2)\n",
    "    s2 = OR(x1, x2)\n",
    "    return AND(s1, s2)\n",
    "    "
   ]
  },
  {
   "cell_type": "code",
   "execution_count": 12,
   "metadata": {},
   "outputs": [
    {
     "name": "stdout",
     "output_type": "stream",
     "text": [
      "0\n",
      "1\n",
      "1\n",
      "0\n"
     ]
    }
   ],
   "source": [
    "print(XOR(0, 0))\n",
    "print(XOR(1, 0))\n",
    "print(XOR(0, 1))\n",
    "print(XOR(1, 1))"
   ]
  }
 ],
 "metadata": {
  "kernelspec": {
   "display_name": "Python 3",
   "language": "python",
   "name": "python3"
  },
  "language_info": {
   "codemirror_mode": {
    "name": "ipython",
    "version": 3
   },
   "file_extension": ".py",
   "mimetype": "text/x-python",
   "name": "python",
   "nbconvert_exporter": "python",
   "pygments_lexer": "ipython3",
   "version": "3.7.6"
  }
 },
 "nbformat": 4,
 "nbformat_minor": 2
}
