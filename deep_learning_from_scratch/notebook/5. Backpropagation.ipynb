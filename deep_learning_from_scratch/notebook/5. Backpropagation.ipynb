{
 "cells": [
  {
   "cell_type": "markdown",
   "metadata": {},
   "source": [
    "# Intro.\n",
    "\n",
    "이번 장에서는 오류 역전파에 대해 다룬다.  \n",
    "신경망의 가중치 파라미터 기울기(가중치 파라미터에 대한 손실 함수의 기울기)는 미분을 통해서 구했다.  \n",
    "\n",
    "가중치 파라미터의 기울기를 효율적으로 계산하는 방법인 오류 역전파에 대해 다룬다.  \n",
    "\n",
    "오류 역전파에 대한 이해 방법에는 두 가지가 존재한다.  \n",
    "\n",
    "1. 수식\n",
    "2. 계산 그래프(computation graph)\n",
    "\n",
    "# 1. 계산 그래프\n",
    "\n",
    "계산 그래프는 계산 과정을 그래프로 나타내는 방법으로, 노드와 엣지로 구성되어 있다.  \n",
    "\n",
    "## 1.1. 계산 그래프로 풀어보기\n",
    "\n"
   ]
  }
 ],
 "metadata": {
  "kernelspec": {
   "display_name": "Python 3",
   "language": "python",
   "name": "python3"
  },
  "language_info": {
   "codemirror_mode": {
    "name": "ipython",
    "version": 3
   },
   "file_extension": ".py",
   "mimetype": "text/x-python",
   "name": "python",
   "nbconvert_exporter": "python",
   "pygments_lexer": "ipython3",
   "version": "3.7.6"
  }
 },
 "nbformat": 4,
 "nbformat_minor": 2
}
