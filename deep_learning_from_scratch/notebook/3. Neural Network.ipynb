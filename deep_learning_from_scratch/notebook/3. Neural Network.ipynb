{
 "cells": [
  {
   "cell_type": "markdown",
   "metadata": {},
   "source": [
    "# Intro.\n",
    "\n",
    "앞선 퍼셉트론은 가중치 파라미터를 직접 조절해주어야 한다. 신경망과 퍼셉트론의 차이는 이 가중치를 자동으로 학습한다는데 있다.  \n",
    "\n",
    "# 1. 퍼셉트론에서 신경망으로\n",
    "\n",
    "퍼셉트론과의 다른 점을 중심으로 신경망의 구조를 설명한다.\n",
    "\n",
    "## 1.1. 신경망의 용어\n",
    "\n",
    "![neural_network](./assets/03/1.png)\n",
    "\n",
    "맨 왼쪽에는 입력층, 중간은 은닉층, 맨 오른쪽은 출력층이라고 부른다. 은닉층은 하나 이상의 레이어를 가진다. 또한 외부로 드러나지 않기 때문에 은닉층이라고 부른다.  \n",
    "\n",
    "또한 이는 퍼셉트론과 유의미한 차이가 보이지 않는데, 동작 방식을 제외하고는 구조적으로는 동일하다.\n",
    "\n",
    "## 1.2. 퍼셉트론 복습\n",
    "\n",
    "두 신호 x1, x2를 입력받아 출력 y를 출력하는 퍼셉트론의 수식은 다음과 같다.  \n",
    "\n",
    "```text\n",
    "0 if (b + w1x1 + w2y2) <= 0\n",
    "1 if (b + w1x1 + w2y2) > 0\n",
    "```\n",
    "\n",
    "여기서 b는 `편향`을 나타내는 파라미터이고 뉴런이 얼마나 쉽게 활성화 될 수 있는지에 대한 척도이다.  \n",
    "w는 `가중치`를 나타내는 파라미터이고 입력된 신호의 영향력을 조절한다.  \n",
    "\n",
    "## 1.3. 활성화 함수(Activation Function)의 등장\n",
    "\n",
    "입력 신호의 총합을 출력 신호로 변환하는 함수를 활성화 함수라고 말한다.  \n",
    "\n",
    "가중치 벡터와 입력 벡터의 내적에 편향을 합한 값은 다음과 같이 나타낼 수 있다.  \n",
    "\n",
    "```text\n",
    "a = WX + B\n",
    "y = h(a)\n",
    "```\n",
    "\n",
    "a는 입력과 가중치의 내적에 편향을 더한 총 합을 계산하고, 이 값을 함수 `h(x)`에 넣어 y를 출력하는 흐름이다.  \n",
    "\n",
    "# 2. 활성화 함수(Activation Function)\n",
    "\n",
    "앞서 소개한 함수 같은 활성화 함수는 임계값을 경계로 출력이 변경되는데, 이를 계단 함수라고 부른다.  \n",
    "간단히 말하면  \n",
    "\n",
    "> 퍼셉트론은 활성화 함수를 사용한다.\n",
    "\n",
    "라고 할 수 있다.  \n",
    "\n",
    "## 2.1. 시그모이드 함수\n",
    "\n",
    "신경망에서 사용하는 활성화 함수 중 하나인 시그모이드는 다음과 같다.  \n",
    "\n",
    "![sigmoid](./assets/03/2.png)\n",
    "\n",
    "퍼셉트론에서 사용하는 계단함수와 달리 함수의 생김새가 연속적이다. 신경망과 퍼셉트론의 차이는 바로 이 활성화 함수에 있다.  \n",
    "\n",
    "## 2.2. 계단 함수\n",
    "\n",
    "어떤 특정 값을 경계로 출력이 변경되는 계단함수를 직접 구현해보자."
   ]
  },
  {
   "cell_type": "code",
   "execution_count": 5,
   "metadata": {},
   "outputs": [
    {
     "data": {
      "text/plain": [
       "array([0, 1, 1])"
      ]
     },
     "execution_count": 5,
     "metadata": {},
     "output_type": "execute_result"
    }
   ],
   "source": [
    "import numpy as np\n",
    "\n",
    "def step_function(x):\n",
    "    y = x > 0\n",
    "    return y.astype(np.int)\n",
    "\n",
    "x = np.array([-1.0, 1.0, 2.0])\n",
    "x\n",
    "step_function(x)"
   ]
  },
  {
   "cell_type": "markdown",
   "metadata": {},
   "source": [
    "이를 이용해 그래프를 그려보자."
   ]
  },
  {
   "cell_type": "code",
   "execution_count": 6,
   "metadata": {},
   "outputs": [
    {
     "data": {
      "image/png": "[encoded data removed]",
      "text/plain": [
       "<Figure size 432x288 with 1 Axes>"
      ]
     },
     "metadata": {
      "needs_background": "light"
     },
     "output_type": "display_data"
    }
   ],
   "source": [
    "import matplotlib.pylab as plt\n",
    "\n",
    "def step_function(x):\n",
    "    return np.array(x > 0, dtype=np.int)\n",
    "\n",
    "x = np.arange(-5.0, 5.0, 0.1)\n",
    "y = step_function(x)\n",
    "\n",
    "plt.plot(x, y)\n",
    "plt.ylim(-0.1, 1.1)\n",
    "plt.show()"
   ]
  },
  {
   "cell_type": "markdown",
   "metadata": {},
   "source": [
    "특정 값(임계값)을 경계로 출력이 확 변경되는 모습을 볼 수 있다."
   ]
  },
  {
   "cell_type": "markdown",
   "metadata": {},
   "source": [
    "## 2.3. 시그모이드 함수 구현\n",
    "\n",
    "시그모이드를 구현하고 찍어보자."
   ]
  },
  {
   "cell_type": "code",
   "execution_count": 7,
   "metadata": {},
   "outputs": [
    {
     "data": {
      "text/plain": [
       "array([0.26894142, 0.73105858, 0.88079708])"
      ]
     },
     "execution_count": 7,
     "metadata": {},
     "output_type": "execute_result"
    }
   ],
   "source": [
    "def sigmoid(x):\n",
    "    return 1 / (1 + np.exp(-x))\n",
    "\n",
    "x = np.array([-1.0, 1.0, 2.0])\n",
    "sigmoid(x)"
   ]
  },
  {
   "cell_type": "code",
   "execution_count": 8,
   "metadata": {},
   "outputs": [],
   "source": [
    "x = np.arange(-5.0, 5.0, 0.1)\n",
    "y = sigmoid(x)"
   ]
  },
  {
   "cell_type": "code",
   "execution_count": 9,
   "metadata": {},
   "outputs": [
    {
     "data": {
      "image/png": "[encoded data removed]",
      "text/plain": [
       "<Figure size 432x288 with 1 Axes>"
      ]
     },
     "metadata": {
      "needs_background": "light"
     },
     "output_type": "display_data"
    }
   ],
   "source": [
    "plt.plot(x, y)\n",
    "plt.ylim(-0.1, 1.1)\n",
    "plt.show()"
   ]
  },
  {
   "cell_type": "markdown",
   "metadata": {},
   "source": [
    "## 2.4. 시그모이드 함수 vs 계단 함수\n",
    "\n",
    "두 함수를 비교해보자."
   ]
  },
  {
   "cell_type": "code",
   "execution_count": 10,
   "metadata": {},
   "outputs": [],
   "source": [
    "x = np.arange(-5.0, 5.0, 0.1)\n",
    "y1 = step_function(x)\n",
    "y2 = sigmoid(x)"
   ]
  },
  {
   "cell_type": "code",
   "execution_count": 11,
   "metadata": {},
   "outputs": [
    {
     "data": {
      "image/png": "[encoded data removed]",
      "text/plain": [
       "<Figure size 432x288 with 1 Axes>"
      ]
     },
     "metadata": {
      "needs_background": "light"
     },
     "output_type": "display_data"
    }
   ],
   "source": [
    "plt.plot(x, y1, label=\"step\", linestyle=\"--\")\n",
    "plt.plot(x, y2, label=\"sigmoid\")\n",
    "plt.ylim(-0.1, 1.1)\n",
    "plt.legend()\n",
    "plt.show()"
   ]
  },
  {
   "cell_type": "markdown",
   "metadata": {},
   "source": [
    "## 2.5. ReLU\n",
    "\n",
    "렐루는 신경망의 활성화 함수로 사용되는 함수 중 하나이다."
   ]
  },
  {
   "cell_type": "code",
   "execution_count": 12,
   "metadata": {},
   "outputs": [
    {
     "data": {
      "image/png": "[encoded data removed]",
      "text/plain": [
       "<Figure size 432x288 with 1 Axes>"
      ]
     },
     "metadata": {
      "needs_background": "light"
     },
     "output_type": "display_data"
    }
   ],
   "source": [
    "def relu(x):\n",
    "    return np.maximum(0, x)\n",
    "\n",
    "x = np.arange(-5.0, 5.0, 0.1)\n",
    "y = relu(x)\n",
    "\n",
    "plt.plot(x, y)\n",
    "plt.ylim(-0.1, 1.1)\n",
    "plt.show()"
   ]
  },
  {
   "cell_type": "markdown",
   "metadata": {},
   "source": [
    "# 3. 다차원 배열 계산\n",
    "\n",
    "다차원 배열 계산을 알면 신경망 구현에 유리함\n",
    "\n",
    "## 3.1. 다차원 배열\n",
    "\n",
    "N차원 배열을 실습해보자."
   ]
  },
  {
   "cell_type": "code",
   "execution_count": 15,
   "metadata": {},
   "outputs": [
    {
     "name": "stdout",
     "output_type": "stream",
     "text": [
      "[0 1 2 3]\n"
     ]
    }
   ],
   "source": [
    "A = np.array(range(4))\n",
    "print(A)"
   ]
  },
  {
   "cell_type": "code",
   "execution_count": 16,
   "metadata": {},
   "outputs": [
    {
     "data": {
      "text/plain": [
       "1"
      ]
     },
     "execution_count": 16,
     "metadata": {},
     "output_type": "execute_result"
    }
   ],
   "source": [
    "np.ndim(A)"
   ]
  },
  {
   "cell_type": "code",
   "execution_count": 18,
   "metadata": {},
   "outputs": [
    {
     "data": {
      "text/plain": [
       "(4,)"
      ]
     },
     "execution_count": 18,
     "metadata": {},
     "output_type": "execute_result"
    }
   ],
   "source": [
    "A.shape"
   ]
  },
  {
   "cell_type": "markdown",
   "metadata": {},
   "source": [
    "ndim 함수는 차원을 나타내는 함수이다. 여기선 1차원 배열이고 모양은 `4x1`이기 때문에 튜플 (4, )로 표현된다.\n",
    "다차원을 나타내보자."
   ]
  },
  {
   "cell_type": "code",
   "execution_count": 19,
   "metadata": {},
   "outputs": [
    {
     "name": "stdout",
     "output_type": "stream",
     "text": [
      "[[1 2]\n",
      " [3 4]\n",
      " [5 6]]\n"
     ]
    }
   ],
   "source": [
    "B = np.array([[1, 2], [3, 4], [5, 6]])\n",
    "print(B)"
   ]
  },
  {
   "cell_type": "code",
   "execution_count": 20,
   "metadata": {},
   "outputs": [
    {
     "data": {
      "text/plain": [
       "2"
      ]
     },
     "execution_count": 20,
     "metadata": {},
     "output_type": "execute_result"
    }
   ],
   "source": [
    "np.ndim(B)"
   ]
  },
  {
   "cell_type": "code",
   "execution_count": 21,
   "metadata": {},
   "outputs": [
    {
     "data": {
      "text/plain": [
       "(3, 2)"
      ]
     },
     "execution_count": 21,
     "metadata": {},
     "output_type": "execute_result"
    }
   ],
   "source": [
    "B.shape"
   ]
  },
  {
   "cell_type": "markdown",
   "metadata": {},
   "source": [
    "## 3.2. 행렬 곱셈\n",
    "\n",
    "행렬 곱셈은 dot으로 처리한다. (dot product 아님 주의)"
   ]
  },
  {
   "cell_type": "code",
   "execution_count": 23,
   "metadata": {},
   "outputs": [
    {
     "data": {
      "text/plain": [
       "array([[22, 28],\n",
       "       [49, 64]])"
      ]
     },
     "execution_count": 23,
     "metadata": {},
     "output_type": "execute_result"
    }
   ],
   "source": [
    "A = np.array([[1, 2, 3], [4, 5, 6]])\n",
    "B = np.array([[1, 2], [3, 4], [5, 6]])\n",
    "\n",
    "np.dot(A, B)"
   ]
  },
  {
   "cell_type": "markdown",
   "metadata": {},
   "source": [
    "## 3.3. 신경망에서의 행렬 곱셈\n",
    "\n",
    "![nn](./assets/03/3.png)\n",
    "\n",
    "입력층에는 두 개의 뉴런이 존재하고 출력층에는 3개의 뉴런이 존재한다고 해보자."
   ]
  },
  {
   "cell_type": "code",
   "execution_count": 28,
   "metadata": {},
   "outputs": [
    {
     "data": {
      "text/plain": [
       "array([ 5, 11, 17])"
      ]
     },
     "execution_count": 28,
     "metadata": {},
     "output_type": "execute_result"
    }
   ],
   "source": [
    "x = np.array([1, 2])\n",
    "w = np.array([[1, 3, 5], [2, 4, 6]])\n",
    "y = np.dot(x, w)\n",
    "y"
   ]
  },
  {
   "cell_type": "markdown",
   "metadata": {},
   "source": [
    "# 4. 3층 신경망 구현\n",
    "\n",
    "다음 층으로 출력되는 값을 구하는 식을 보자.  \n",
    "\n",
    "```text\n",
    "A = XW + B\n",
    "```\n",
    "\n",
    "이를 참고해서 구현"
   ]
  },
  {
   "cell_type": "code",
   "execution_count": 29,
   "metadata": {},
   "outputs": [],
   "source": [
    "def identity_function(x):\n",
    "    return x\n",
    "\n",
    "def init_network():\n",
    "    network = {}\n",
    "    network['w1'] = np.array([[0.1, 0.3, 0.5], [0.2, 0.4, 0.6]])\n",
    "    network['b1'] = np.array([0.1, 0.2, 0.3])\n",
    "    network['w2'] = np.array([[0.1, 0.4], [0.2, 0.5], [0.3, 0.6]])\n",
    "    network['b2'] = np.array([0.1, 0.2])\n",
    "    network['w3'] = np.array([[0.1, 0.3], [0.2, 0.4]])\n",
    "    network['b3'] = np.array([0.1, 0.2])\n",
    "    \n",
    "    return network\n",
    "\n",
    "def forward(network, x):\n",
    "    w1, w2, w3 = network['w1'], network['w2'], network['w3']\n",
    "    b1, b2, b3 = network['b1'], network['b2'], network['b3']\n",
    "    \n",
    "    a1 = np.dot(x, w1) + b1\n",
    "    z1 = sigmoid(a1)\n",
    "    a2 = np.dot(z1, w2) + b2\n",
    "    z2 = sigmoid(a2)\n",
    "    a3 = np.dot(z2, w3) + b3\n",
    "    \n",
    "    return identity_function(a3)\n"
   ]
  },
  {
   "cell_type": "code",
   "execution_count": 30,
   "metadata": {},
   "outputs": [
    {
     "name": "stdout",
     "output_type": "stream",
     "text": [
      "[0.31682708 0.69627909]\n"
     ]
    }
   ],
   "source": [
    "network = init_network()\n",
    "x = np.array([1.0, 0.5])\n",
    "y = forward(network, x)\n",
    "print(y)"
   ]
  },
  {
   "cell_type": "markdown",
   "metadata": {},
   "source": [
    "# 5. 출력층 설계\n",
    "\n",
    "출력층에서 사용하는 함수를 항등함수를 사용했다. 출력층의 활성화 함수는 해결하려는 문제의 종류에 따라 결정해야한다.  \n",
    "머신 러닝이 해결하는 문제는 크게 두 가지로 분류된다.  \n",
    "\n",
    "- 회귀: 연속적인 수치를 예측하는 문제. 사진 속 인물의 키를 예측한다던가 다음 해의 출생자 수를 예측한다던가 하는 것들\n",
    "- 분류: 이 사진이 개인지 고양이인지 분류(classification)하는 문제\n",
    "\n",
    "회귀에서는 항등 함수를, 분류에서는 소프트맥스를 사용하는 것이 일반적이다.\n",
    "\n",
    "## 5.1. 소프트맥스 함수\n",
    "\n",
    "소프트맥스 함수의 정의를 보자.  \n",
    "\n",
    "![softmax](./assets/03/4.png)\n",
    "\n",
    "벡터의 합을 나눈 값이기 때문에 소프트맥스 함수의 값은 0부터 1.0 사이의 실수가 된다. 즉 이는 확률로 해석이 가능하다.  \n",
    "또한 모든 벡터의 소프맥스 함수 결과 값들의 총합은 1이다. 이런 이유로 분류에 사용되는 것이다.  \n",
    "\n",
    "이미 세팅된 값으로 분류를 할 때에는 출력층에서 소프트맥스 함수를 사용하지 않는다. 연산 코스트가 들어가기 때문이다. 또한 생략해도 상관이 없는데, 그 이유는 지수 함수가 단조 증가 함수이기 때문에 대소 관계가 변화하지 않기 때문이다.  \n",
    "\n",
    "다만 신경망에서 학습을 할 때에는 사용된다.  \n",
    "\n"
   ]
  },
  {
   "cell_type": "code",
   "execution_count": 31,
   "metadata": {},
   "outputs": [
    {
     "data": {
      "text/plain": [
       "array([0.01821127, 0.24519181, 0.73659691])"
      ]
     },
     "execution_count": 31,
     "metadata": {},
     "output_type": "execute_result"
    }
   ],
   "source": [
    "def softmax(z):\n",
    "    c = np.max(z)\n",
    "    exp_z = np.exp(z - c)\n",
    "    sum_exp_z = np.sum(exp_z)\n",
    "    return exp_z / sum_exp_z\n",
    "\n",
    "x = np.array([0.3, 2.9, 4.0])\n",
    "y = softmax(x)\n",
    "y"
   ]
  },
  {
   "cell_type": "code",
   "execution_count": 32,
   "metadata": {},
   "outputs": [
    {
     "data": {
      "text/plain": [
       "1.0"
      ]
     },
     "execution_count": 32,
     "metadata": {},
     "output_type": "execute_result"
    }
   ],
   "source": [
    "np.sum(y)"
   ]
  },
  {
   "cell_type": "code",
   "execution_count": null,
   "metadata": {},
   "outputs": [],
   "source": []
  }
 ],
 "metadata": {
  "kernelspec": {
   "display_name": "Python 3",
   "language": "python",
   "name": "python3"
  },
  "language_info": {
   "codemirror_mode": {
    "name": "ipython",
    "version": 3
   },
   "file_extension": ".py",
   "mimetype": "text/x-python",
   "name": "python",
   "nbconvert_exporter": "python",
   "pygments_lexer": "ipython3",
   "version": "3.7.6"
  }
 },
 "nbformat": 4,
 "nbformat_minor": 2
}
