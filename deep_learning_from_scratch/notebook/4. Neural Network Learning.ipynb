{
 "cells": [
  {
   "cell_type": "markdown",
   "metadata": {},
   "source": [
    "# Intro.\n",
    "\n",
    "훈련 데이터로부터 가중치 파라미터의 최적값을 자동으로 찾는 것을 `학습`이라고 부른다.  \n",
    "신경망의 학습을 돕기 위한 지표를 `손실 함수(혹은 비용 함수)`라고 부른다. 손실 함수를 최소화 시키는 가중치 파라미터를 찾는 것이 학습이 하는 일이다.  \n",
    "\n",
    "쉽게 생각하면 채점 기준을 두고 문제를 가장 적게 틀리는 방향으로 이동시키는거라고 보면 쉽다.  \n",
    "\n",
    "# 1. 데이터에서 학습\n",
    "\n",
    "가중치를 자동으로 조정해서 학습하는 것을 공부해보자.  \n",
    "\n",
    "## 1.1. 데이터 주도 학습\n",
    "\n",
    "보통은 어떤 문제를 해결할 때 패턴을 찾아낼 때에는 사람이 개입한다. 기계학습은 이 사람의 개입을 최소화하고 수집한 데이터에서 패턴을 찾으려고 한다.  \n",
    "딥러닝은 사람의 개입이 아주 배제되는 중요한 특성을 가지고 있다.  \n",
    "\n",
    "우리가 학습하려는 손글씨를 생각해보자.  \n",
    "\n",
    "이미지에서 특징을 추출(feature extraction)하고 이 특징의 패턴을 학습시키는 방법이 있다. 여기서 특징이란 입력 데이터의 중요한 부분을 추출하는 것을 의미한다.  \n",
    "컴퓨터 비전 분야에서 HOG, SIFT 등이 바로 그런 것들이다. 이미지의 특징을 벡터로 기술해서 이를 학습시키는 것이다.  \n",
    "\n",
    "이러한 과정은 당연히 사람이 한다. 이 받은 벡터를 기반으로 예측하는 모델을 만드는 것을 기계가 해준다.  \n",
    "즉, 문제에 필요한 피쳐를 뽑아내어 사용하지 않으면 학습 품질이 굉장히 떨어진다.  \n",
    "\n",
    "그럼 딥러닝은 장점이 뭘까?? 보통은 다음과 같은 과정을 거쳐 문제를 해결하려고 한다.  \n",
    "\n",
    "1. 피쳐 추출\n",
    "2. 기계 학습(SVM, KNN) 등 선택\n",
    "\n",
    "하지만 딥러닝은 신경망이라는 컨텍스트 내에서 문제를 해결할 수 있다는 점이 다르다.  \n",
    "\n",
    "가공된 벡터를 넣어 주어진 데이터만 가지고 학습을 하여 패턴을 찾으려고 하는 것이다. `end-to-end` 학습을 하는 것이다.  \n",
    "\n",
    "# 2. 손실 함수\n",
    "\n",
    "머신러닝에서는 손실 함수라는 학습 상태를 측정할 수 있는 기준을 두고 이를 중심으로 파라미터를 조절한다. 신경망의 경우에는 가중치 파라미터가 조절 될 것이다.  \n",
    "이러한 손실 함수에는 여러가지 방법이 있다.  \n",
    "\n",
    "- MSE(Mean Squared Error)\n",
    "- RMSE(Root MSE)\n",
    "- R^2\n",
    "- Adjusted R^2\n",
    "- MAE(Mean Absolute Error)\n",
    "- MAPE(Mean Absolute Percentage Error)\n",
    "- Cross Entropy\n",
    "\n",
    "여기서는 평균 제곱 오차 MSE와 크로스 엔트로피를 학습한다.  \n",
    "\n",
    "## 2.1. Mean Squared Error(평균 제곱 오차)\n",
    "\n",
    "평균 제곱 오차의 수식을 보자.  \n",
    "\n",
    "![mse](./assets/04/1.png)\n",
    "\n",
    "여기서 y_i는 관측 값, 그리고 y_i에 hat(^) 기호가 붙은 친구는 예측 값을 의미한다. 그리고 이 차를 제곱한 합의 평균을 내는 방법이 MSE이다.  \n",
    "왜 굳이 제곱을 하냐하면 부호를 양수로 통일하기 위함이다. 음수나 양수나 어쨌든 실제 기대값에서 못미친다는 사실은 변함이 없기 때문에 제곱을 해도 무관하기 때문이다.  \n",
    "\n"
   ]
  },
  {
   "cell_type": "code",
   "execution_count": 1,
   "metadata": {},
   "outputs": [
    {
     "name": "stdout",
     "output_type": "stream",
     "text": [
      "0.019500000000000007\n",
      "0.11950000000000001\n"
     ]
    }
   ],
   "source": [
    "import numpy as np\n",
    "\n",
    "def mean_squared_error(y, t):\n",
    "    return np.sum((y - t) ** 2) / y.size\n",
    "\n",
    "# the answer is 2\n",
    "t = [0, 0, 1, 0, 0, 0, 0, 0, 0, 0]\n",
    "\n",
    "# let the y be output of neural network\n",
    "y = [0.1, 0.05, 0.6, 0.0, 0.05, 0.1, 0.0, 0.1, 0.0, 0.0]\n",
    "print(mean_squared_error(np.array(y), np.array(t)))\n",
    "\n",
    "y = [0.1, 0.05, 0.1, 0.0, 0.05, 0.1, 0.0, 0.6, 0.0, 0.0]\n",
    "print(mean_squared_error(np.array(y), np.array(t)))"
   ]
  },
  {
   "cell_type": "markdown",
   "metadata": {},
   "source": [
    "답은 2였고 신경망의 출력 결과는 각각 2가 유력, 7을 유력이라고 예측했다.  \n",
    "답을 맞춘 전자는 손실 함수의 값이 낮고, 답을 틀린 후자는 손실 함수의 값이 높다.  \n",
    "\n",
    "이를 바탕으로 추론을 진행하는 것이다.  \n",
    "\n",
    "참고로 신경망 출력 결과의 합이 1이라는 사실도 눈여겨보자.  \n",
    "\n",
    "## 2.2. Cross Entropy Error(교차 엔트로피 오차)\n",
    "\n",
    "수식을 보자.  \n",
    "\n",
    "![mse](./assets/04/2.png)\n",
    "\n",
    "여기서 로그 안의 y_i는 신경망에서 예측한 값, 밖에 있는 y_i는 정답 레이블을 의미한다.  \n",
    "정답 레이블은 `One-Hot encoding` 즉, 정답 1을 제외하고는 0으로 인코딩 되어 있기 때문에 사실상 정답일 때의 값이 전체 값을 결정하게 되는 구조이다.  \n",
    "\n",
    "로그 함수의 특성 상 x가 1일 때 y는 0이되고, x가 0에 가까워 질 수록 y 값은 커진다.  "
   ]
  },
  {
   "cell_type": "code",
   "execution_count": 2,
   "metadata": {},
   "outputs": [
    {
     "name": "stdout",
     "output_type": "stream",
     "text": [
      "0.510825457099338\n",
      "2.302584092994546\n"
     ]
    }
   ],
   "source": [
    "def cross_entropy_error(y, t):\n",
    "    delta = 1e-7\n",
    "    return -np.sum(t * np.log(y + delta))\n",
    "\n",
    "# the answer is 2\n",
    "t = [0, 0, 1, 0, 0, 0, 0, 0, 0, 0]\n",
    "\n",
    "# let the y be output of neural network\n",
    "y = [0.1, 0.05, 0.6, 0.0, 0.05, 0.1, 0.0, 0.1, 0.0, 0.0]\n",
    "print(cross_entropy_error(np.array(y), np.array(t)))\n",
    "\n",
    "y = [0.1, 0.05, 0.1, 0.0, 0.05, 0.1, 0.0, 0.6, 0.0, 0.0]\n",
    "print(cross_entropy_error(np.array(y), np.array(t)))"
   ]
  },
  {
   "cell_type": "markdown",
   "metadata": {},
   "source": [
    "이와 같이 실제로 판단이 잘 되는 모습을 볼 수 있다. 틀려먹은 친구일 수록 값이 크다.  \n",
    "\n",
    "## 2.3. minibatch\n",
    "\n",
    "머신 러닝은\n",
    "\n",
    "- 훈련 데이터에 대한 손실 함수의 값을 구하고\n",
    "- 그 값을 줄이는 파라미터를 찾음\n",
    "\n",
    "을 과정으로 한다. 문제는 데이터가 적으면 상관 없는데 빅 데이터에 대한 것이라면?  \n",
    "데이터 일부를 추려 전체의 근사치로 이용하는 방법이 있다. (표본과 경향성에 대한 이야기임)  \n",
    "\n",
    "이렇게 일부를 추려 학습시키는 것을 미니배치 학습이라고 한다.  \n",
    "\n",
    "배치 프로세스는 컴퓨터에게 있어서도 상당히 유리하다.  \n",
    "\n",
    "## 2.4. Cross Entropy for batch\n",
    "\n",
    "배치용 크로스 엔트로피를 구현해보자.  "
   ]
  },
  {
   "cell_type": "code",
   "execution_count": 3,
   "metadata": {},
   "outputs": [],
   "source": [
    "def cross_entropy_error(y, t):\n",
    "    if y.ndim == 1:\n",
    "        t = t.reshape(1, t.size)\n",
    "        y = y.reshape(1, y.size)\n",
    "    \n",
    "    batch_size = y.shape[0]\n",
    "    return -np.sum(t * np.log(y + 1e-7)) / batch_size"
   ]
  },
  {
   "cell_type": "markdown",
   "metadata": {},
   "source": [
    "## 2.5. 왜 손실 함수인가?\n",
    "\n",
    "정확도라는 값을 놔두고 굳이 손실 함수 값을 취하는 이유는 무엇일까?  \n",
    "신경망 학습에서는 최적의 파라미터를 탐색 할 때 손실 함수의 값을 최소화 시키는 파라미터를 찾는다. 이 때 파라미터의 미분 값을 기반으로 갱신을 한다.  \n",
    "\n",
    "이는 신경망의 활성화 함수로 계단 함수를 채택하지 않는 이유와도 맞는다.\n",
    "\n",
    "# 3. 수치 미분\n",
    "\n",
    "경사 하강법에서는 경사 값을 기준으로 나아갈 방향을 정한다.  \n",
    "\n",
    "## 3.1. 미분\n",
    "\n",
    "![derivative](./assets/04/3.png)\n",
    "\n",
    "순간적인 변화량을 의미하는 미분에 대한 수식이다. 이를 파이썬의 장점을 사용해서 순진하게 구현해보면 다음과 같다.  "
   ]
  },
  {
   "cell_type": "code",
   "execution_count": 4,
   "metadata": {},
   "outputs": [],
   "source": [
    "def numerical_diff(f, x):\n",
    "    h = 10e-50\n",
    "    return (f(x + h) - f(x)) / h"
   ]
  },
  {
   "cell_type": "markdown",
   "metadata": {},
   "source": [
    "이 방법에는 두 가지 문제가 있다.  \n",
    "\n",
    "- 반올림 오차(rounding error)\n",
    "- 해석적 해와는 다르기 수치적 근사이므로 오차를 줄이기 위해 차분 계산을 해야함\n",
    "\n",
    "개선된 버전을 보자\n"
   ]
  },
  {
   "cell_type": "code",
   "execution_count": 5,
   "metadata": {},
   "outputs": [],
   "source": [
    "def numerical_diff(f, x):\n",
    "    h = 1e-4\n",
    "    return (f(x + h) - f(x - h)) / (2 * h)"
   ]
  },
  {
   "cell_type": "markdown",
   "metadata": {},
   "source": [
    "## 3.2. 수치 미분\n",
    "\n",
    "다음과 같은 함수를 가정해보자.  \n",
    "\n",
    "```text\n",
    "f(x) = 0.01x^2 + 0.1x\n",
    "```\n",
    "\n",
    "이 함수를 미분하면 다음과 같다.  \n",
    "\n",
    "```text\n",
    "f'(x) = 0.02x + 0.1\n",
    "```\n",
    "\n",
    "이제 이를 바탕으로 코드로 증명해보자.  "
   ]
  },
  {
   "cell_type": "code",
   "execution_count": 6,
   "metadata": {},
   "outputs": [
    {
     "data": {
      "image/png": "[encoded data removed]",
      "text/plain": [
       "<Figure size 432x288 with 1 Axes>"
      ]
     },
     "metadata": {
      "needs_background": "light"
     },
     "output_type": "display_data"
    }
   ],
   "source": [
    "import numpy as np\n",
    "import matplotlib.pylab as plt\n",
    "\n",
    "def f1(x):\n",
    "    return 0.01 * x ** 2 + 0.1 * x\n",
    "\n",
    "x = np.arange(0.0, 20.0, 0.1)\n",
    "y = f1(x)\n",
    "plt.xlabel(\"x\")\n",
    "plt.ylabel(\"y\")\n",
    "plt.plot(x, y)\n",
    "plt.show()"
   ]
  },
  {
   "cell_type": "markdown",
   "metadata": {},
   "source": [
    "이 함수의 미분값을 해석적으로 구해보고 수치적으로 구해보자. 5인 경우와 10인 경우에 대해 구해보자.  "
   ]
  },
  {
   "cell_type": "code",
   "execution_count": 7,
   "metadata": {},
   "outputs": [
    {
     "name": "stdout",
     "output_type": "stream",
     "text": [
      "0.1999999999990898\n",
      "0.2999999999986347\n"
     ]
    }
   ],
   "source": [
    "print(numerical_diff(f1, 5)) # 해석적으로 .2\n",
    "print(numerical_diff(f1, 10)) # 해석적으로 .3"
   ]
  },
  {
   "cell_type": "markdown",
   "metadata": {},
   "source": [
    "정확하지는 않지만 거의 똑같다고 볼 수 있다. 실제로 접선을 그어보자."
   ]
  },
  {
   "cell_type": "code",
   "execution_count": 8,
   "metadata": {},
   "outputs": [
    {
     "name": "stdout",
     "output_type": "stream",
     "text": [
      "0.1999999999990898\n"
     ]
    },
    {
     "data": {
      "image/png": "[encoded data removed]",
      "text/plain": [
       "<Figure size 432x288 with 1 Axes>"
      ]
     },
     "metadata": {
      "needs_background": "light"
     },
     "output_type": "display_data"
    }
   ],
   "source": [
    "def tangent_line(f, x):\n",
    "    d = numerical_diff(f, x)\n",
    "    print(d)\n",
    "    y = f(x) - d*x\n",
    "    return lambda t: d*t + y\n",
    "     \n",
    "x = np.arange(0.0, 20.0, 0.1)\n",
    "y = f1(x)\n",
    "plt.xlabel(\"x\")\n",
    "plt.ylabel(\"f1(x)\")\n",
    "\n",
    "tf = tangent_line(f1, 5)\n",
    "y2 = tf(x)\n",
    "\n",
    "plt.plot(x, y)\n",
    "plt.plot(x, y2)\n",
    "plt.show()"
   ]
  },
  {
   "cell_type": "markdown",
   "metadata": {},
   "source": [
    "## 3.3. 편미분\n",
    "\n",
    "변수가 여러개인 함수의 경우 미분하는 방법을 고민해보자.  \n",
    "\n",
    "```text\n",
    "f(x, y) = x^2 + y^2\n",
    "```\n",
    "\n",
    "이를 그려보자"
   ]
  },
  {
   "cell_type": "code",
   "execution_count": 9,
   "metadata": {},
   "outputs": [
    {
     "data": {
      "image/png": "[encoded data removed]",
      "text/plain": [
       "<Figure size 432x288 with 1 Axes>"
      ]
     },
     "metadata": {
      "needs_background": "light"
     },
     "output_type": "display_data"
    }
   ],
   "source": [
    "from mpl_toolkits import mplot3d\n",
    "import numpy as np\n",
    "import matplotlib.pyplot as plt\n",
    "\n",
    "fig = plt.figure()\n",
    "ax = plt.axes(projection=\"3d\")\n",
    "\n",
    "def f2(x, y):\n",
    "    return x ** 2 + y ** 2\n",
    "\n",
    "x = np.linspace(-3, 3, 20)\n",
    "y = np.linspace(-3, 3, 20)\n",
    "\n",
    "X, Y = np.meshgrid(x, y)\n",
    "Z = f2(X, Y)\n",
    "\n",
    "ax.plot_wireframe(X, Y, Z, color='green')\n",
    "ax.set_xlabel('x')\n",
    "ax.set_ylabel('y')\n",
    "ax.set_zlabel('z')\n",
    "plt.show()"
   ]
  },
  {
   "cell_type": "markdown",
   "metadata": {},
   "source": [
    "그물망 같은 친구가 나온다. 이를 도대체 어떻게 미분하란 말인가. 변수가 두 개다 심지어.  \n",
    "따라서 이를 미분하기 위해서는 `어떤 변수인가?`에 주목해야한다. 이것이 바로 편미분이다.  \n",
    "\n",
    "쉬운 설명을 하자면 한 축 즉, 한 변수를 고정하고 다른 변수에 대해 미분을 수행하는 것을 의미한다.  \n",
    "즉 직관적으로 보자면 칼로 자른 단면의 함수에 대해 미분한다고 생각하면 마음이 편하다.  \n",
    "\n",
    "코드로 이해해보자.  \n",
    "\n",
    "x가 3, y가 4인 경우 x에 대해 미분한다고 가정해보자.  "
   ]
  },
  {
   "cell_type": "code",
   "execution_count": 10,
   "metadata": {},
   "outputs": [
    {
     "data": {
      "text/plain": [
       "6.00000000000378"
      ]
     },
     "execution_count": 10,
     "metadata": {},
     "output_type": "execute_result"
    }
   ],
   "source": [
    "numerical_diff(lambda x: x * x + 4.0 ** 2, 3.0)"
   ]
  },
  {
   "cell_type": "markdown",
   "metadata": {},
   "source": [
    "x가 3, y가 4인 경우 y에 대해 미분한다고 가정해보자.  "
   ]
  },
  {
   "cell_type": "code",
   "execution_count": 11,
   "metadata": {},
   "outputs": [
    {
     "data": {
      "text/plain": [
       "7.999999999999119"
      ]
     },
     "execution_count": 11,
     "metadata": {},
     "output_type": "execute_result"
    }
   ],
   "source": [
    "numerical_diff(lambda x: 3.0 ** 2.0 + x * x, 4.0)"
   ]
  },
  {
   "cell_type": "markdown",
   "metadata": {},
   "source": [
    "해석적 해에 근사하는 값이 나왔다.  \n",
    "\n",
    "# 4. 경사(Gradient)\n",
    "\n",
    "그렇다면 두 변수 x, y에 대한 편미분을 동시에 계산하기 위해서는 어떻게 해야할까?  \n",
    "이 편미분 값에 대한 벡터를 그라디언트(Gradient)라고 한다.  "
   ]
  },
  {
   "cell_type": "code",
   "execution_count": 12,
   "metadata": {},
   "outputs": [
    {
     "name": "stdout",
     "output_type": "stream",
     "text": [
      "[6. 8.]\n",
      "[0. 4.]\n",
      "[6. 0.]\n"
     ]
    }
   ],
   "source": [
    "def numerical_gradient(f, x):\n",
    "    h = 1e-4\n",
    "    grad = np.zeros_like(x)\n",
    "    \n",
    "    for idx in range(x.size):\n",
    "        tmp_val = x[idx]\n",
    "        x[idx] = tmp_val + h\n",
    "        fxh1 = f(x)\n",
    "        \n",
    "        x[idx] = tmp_val - h\n",
    "        fxh2 = f(x)\n",
    "        \n",
    "        grad[idx] = (fxh1 - fxh2) / (2 * h)\n",
    "        x[idx] = tmp_val\n",
    "    return grad\n",
    "\n",
    "def f2(x):\n",
    "    return np.sum(x ** 2)\n",
    "\n",
    "print(numerical_gradient(f2, np.array([3.0, 4.0])))\n",
    "print(numerical_gradient(f2, np.array([0.0, 2.0])))\n",
    "print(numerical_gradient(f2, np.array([3.0, 0.0])))"
   ]
  },
  {
   "cell_type": "code",
   "execution_count": 13,
   "metadata": {},
   "outputs": [
    {
     "name": "stderr",
     "output_type": "stream",
     "text": [
      "No handles with labels found to put in legend.\n"
     ]
    },
    {
     "data": {
      "image/png": "[encoded data removed]",
      "text/plain": [
       "<Figure size 432x288 with 1 Axes>"
      ]
     },
     "metadata": {
      "needs_background": "light"
     },
     "output_type": "display_data"
    }
   ],
   "source": [
    "import numpy as np\n",
    "import matplotlib.pylab as plt\n",
    "from mpl_toolkits.mplot3d import Axes3D\n",
    "\n",
    "\n",
    "def _numerical_gradient_no_batch(f, x):\n",
    "    h = 1e-4 # 0.0001\n",
    "    grad = np.zeros_like(x) # x와 형상이 같은 배열을 생성\n",
    "    \n",
    "    for idx in range(x.size):\n",
    "        tmp_val = x[idx]\n",
    "        \n",
    "        # f(x+h) 계산\n",
    "        x[idx] = float(tmp_val) + h\n",
    "        fxh1 = f(x)\n",
    "        \n",
    "        # f(x-h) 계산\n",
    "        x[idx] = tmp_val - h \n",
    "        fxh2 = f(x) \n",
    "        \n",
    "        grad[idx] = (fxh1 - fxh2) / (2*h)\n",
    "        x[idx] = tmp_val # 값 복원\n",
    "        \n",
    "    return grad\n",
    "\n",
    "\n",
    "def numerical_gradient(f, X):\n",
    "    if X.ndim == 1:\n",
    "        return _numerical_gradient_no_batch(f, X)\n",
    "    else:\n",
    "        grad = np.zeros_like(X)\n",
    "        \n",
    "        for idx, x in enumerate(X):\n",
    "            grad[idx] = _numerical_gradient_no_batch(f, x)\n",
    "        \n",
    "        return grad\n",
    "\n",
    "\n",
    "def function_2(x):\n",
    "    if x.ndim == 1:\n",
    "        return np.sum(x**2)\n",
    "    else:\n",
    "        return np.sum(x**2, axis=1)\n",
    "\n",
    "\n",
    "def tangent_line(f, x):\n",
    "    d = numerical_gradient(f, x)\n",
    "    y = f(x) - d*x\n",
    "    return lambda t: d*t + y\n",
    "     \n",
    "if __name__ == '__main__':\n",
    "    x0 = np.arange(-2, 2.5, 0.25)\n",
    "    x1 = np.arange(-2, 2.5, 0.25)\n",
    "    X, Y = np.meshgrid(x0, x1)\n",
    "    \n",
    "    X = X.flatten()\n",
    "    Y = Y.flatten()\n",
    "    \n",
    "    grad = numerical_gradient(function_2, np.array([X, Y]) )\n",
    "    \n",
    "    plt.figure()\n",
    "    plt.quiver(X, Y, -grad[0], -grad[1],  angles=\"xy\",color=\"#22cc88\")#,headwidth=10,scale=40,color=\"#444444\")\n",
    "    plt.xlim([-2, 2])\n",
    "    plt.ylim([-2, 2])\n",
    "    plt.xlabel('x0')\n",
    "    plt.ylabel('x1')\n",
    "    plt.grid()\n",
    "    plt.legend()\n",
    "    plt.draw()\n",
    "    plt.show()"
   ]
  },
  {
   "cell_type": "markdown",
   "metadata": {},
   "source": [
    "## 4.1. Gradient Descent\n",
    "\n",
    "학습 단계에서 optimal parameter를 찾는 것이 목표이다. 여기서 optimal은 손실 함수의 값을 최소로 만드는 매개변수의 값이다.  \n",
    "이 최소값을 찾으려는게 경사하강법이다.  \n",
    "\n",
    "하지만 주의할 점이 있다. 기울기가 가리키는 방향이 함수의 최소값이 있다는 보장은 없다는 점이다.  \n",
    "\n",
    "![grad_desc](./assets/04/4.png)\n",
    "\n",
    "에타는 갱신할 양을 의미한다. 신경망에서는 학습률(Learning Rate)이다.  \n",
    "생소해보이는 친구들이라 간단하게 말하면 미분값에 아주 작은 값인 학습률을 곱한만큼 이동해 내려간다고 생각하면 쉽다.  \n",
    "이 값이 작은 이유는 커지는 경우 `Gradient Explosion`이라는 현상이 발생해 발산하여 학습을 제대로 못하는 현상이 생길 수 있다.  \n",
    "\n",
    "그렇다고 마냥 작은 값이 좋을까? 아니다. 학습률 값이 작아지면 최저점까지 찾아가기 위한 스텝수가 늘어난다. 즉 학습 속도가 떨어진다.  \n",
    "이러한 이유 때문에 AdaGrad(Adaptive Grad) 같은 것이 사용된다. 이 방법은 변위를 누적하여 적절한 속도를 만든다.  "
   ]
  },
  {
   "cell_type": "code",
   "execution_count": 14,
   "metadata": {},
   "outputs": [
    {
     "name": "stdout",
     "output_type": "stream",
     "text": [
      "[-0.39785867  0.53047822]\n"
     ]
    }
   ],
   "source": [
    "def gradient_descent(f, init_x, lr=0.01, step_num=100):\n",
    "    x = init_x\n",
    "    log = []\n",
    "    \n",
    "    for i in range(step_num):\n",
    "        log.append(x.copy())\n",
    "        grad = numerical_gradient(f, x)\n",
    "        x -= lr * grad\n",
    "    return x, np.array(log)\n",
    "\n",
    "X = np.array([-3.0, 4.0])\n",
    "r, _ = gradient_descent(lambda x: np.sum(x ** 2), X, lr=0.01, step_num=100)\n",
    "print(r)"
   ]
  },
  {
   "cell_type": "code",
   "execution_count": 15,
   "metadata": {},
   "outputs": [
    {
     "data": {
      "image/png": "[encoded data removed]",
      "text/plain": [
       "<Figure size 432x288 with 1 Axes>"
      ]
     },
     "metadata": {
      "needs_background": "light"
     },
     "output_type": "display_data"
    }
   ],
   "source": [
    "import numpy as np\n",
    "import matplotlib.pylab as plt\n",
    "\n",
    "init_x = np.array([-3.0, 4.0])    \n",
    "\n",
    "lr = 0.1\n",
    "step_num = 200\n",
    "x, x_history = gradient_descent(lambda x: np.sum(x ** 2), init_x, lr=lr, step_num=step_num)\n",
    "\n",
    "plt.plot( [-5, 5], [0,0], '--b')\n",
    "plt.plot( [0,0], [-5, 5], '--b')\n",
    "plt.plot(x_history[:,0], x_history[:,1], 'o')\n",
    "\n",
    "plt.xlim(-3.5, 3.5)\n",
    "plt.ylim(-4.5, 4.5)\n",
    "plt.xlabel(\"X0\")\n",
    "plt.ylabel(\"X1\")\n",
    "plt.show()"
   ]
  },
  {
   "cell_type": "markdown",
   "metadata": {},
   "source": [
    "학습률 같은 파라미터를 하이퍼파라미터(hyper parameter)라고 부른다. 가중치 파라미터와 달리 직접 설정해주어야 하며 실험적 값을 찾아봐야 한다.  \n",
    "\n",
    "## 4.2. 신경망의 Gradient\n",
    "\n",
    "가중치 파라미터에 대한 손실 함수의 기울기를 위해 이걸 공부한 것이다.  "
   ]
  },
  {
   "cell_type": "code",
   "execution_count": 16,
   "metadata": {},
   "outputs": [
    {
     "name": "stdout",
     "output_type": "stream",
     "text": [
      "[[-0.81123928 -0.94435977  1.78187789]\n",
      " [-0.79298488 -0.69909048 -0.38126316]]\n"
     ]
    }
   ],
   "source": [
    "import sys, os\n",
    "import numpy as np\n",
    "\n",
    "from common.functions import softmax, cross_entropy_error\n",
    "from common.gradient import numerical_gradient\n",
    "\n",
    "class simpleNet:\n",
    "    def __init__(self):\n",
    "        self.W = np.random.randn(2, 3)\n",
    "    \n",
    "    def predict(self, x):\n",
    "        return np.dot(x, self.W)\n",
    "    \n",
    "    def loss(self, x, t):\n",
    "        z = self.predict(x)\n",
    "        y = softmax(z)\n",
    "        loss = cross_entropy_error(y, t)\n",
    "        return loss\n",
    "    \n",
    "net = simpleNet()\n",
    "print(net.W)"
   ]
  },
  {
   "cell_type": "code",
   "execution_count": 17,
   "metadata": {},
   "outputs": [
    {
     "data": {
      "text/plain": [
       "array([-1.20042996, -1.1957973 ,  0.72598989])"
      ]
     },
     "execution_count": 17,
     "metadata": {},
     "output_type": "execute_result"
    }
   ],
   "source": [
    "x = np.array([0.6, 0.9])\n",
    "p = net.predict(x)\n",
    "p"
   ]
  },
  {
   "cell_type": "code",
   "execution_count": 18,
   "metadata": {},
   "outputs": [
    {
     "data": {
      "text/plain": [
       "2"
      ]
     },
     "execution_count": 18,
     "metadata": {},
     "output_type": "execute_result"
    }
   ],
   "source": [
    "np.argmax(p)"
   ]
  },
  {
   "cell_type": "code",
   "execution_count": 19,
   "metadata": {},
   "outputs": [
    {
     "data": {
      "text/plain": [
       "2.1779885177768086"
      ]
     },
     "execution_count": 19,
     "metadata": {},
     "output_type": "execute_result"
    }
   ],
   "source": [
    "t = np.array([0, 1, 0])\n",
    "net.loss(x, t)"
   ]
  },
  {
   "cell_type": "code",
   "execution_count": 20,
   "metadata": {},
   "outputs": [
    {
     "name": "stdout",
     "output_type": "stream",
     "text": [
      "[[ 0.06764725 -0.53203811  0.46439086]\n",
      " [ 0.10147088 -0.79805716  0.69658628]]\n"
     ]
    }
   ],
   "source": [
    "def f(W):\n",
    "    return net.loss(x, t)\n",
    "\n",
    "dW = numerical_gradient(f, net.W)\n",
    "print(dW)"
   ]
  },
  {
   "cell_type": "markdown",
   "metadata": {},
   "source": [
    "# 5. 학습 알고리즘 구현\n",
    "\n",
    "신경망 학습 절차\n",
    "\n",
    "1. 미니배치\n",
    "    - 훈련 데이터 중 일부를 무작위로 갖고옴. 이 선별된 데이터를 미니배치라고 부르며, 이 미니배치의 손실 함수 값을 최소화 시키는 것이 목표\n",
    "2. 기울기 산출\n",
    "    - 손실 함수 값을 줄이기 위해 가중치 파라미터의 기울기를 구함. 기울기는 손실 함수의 값을 가장 작게 하는 방향을 제시함\n",
    "3. 파라미터 업데이트\n",
    "    - 가중치 파라미터를 기울기 방향으로 아주 조금 변경함\n",
    "4. 반복\n",
    "    - 1~3단계 반복\n",
    "    \n",
    "이렇게 데이터를 미니배치로 무작위로 선정하기 때문에 SGD(Stochastic Gradient Descent)라 부른다.  \n"
   ]
  },
  {
   "cell_type": "markdown",
   "metadata": {},
   "source": [
    "## 5.1. 2층 신경망 클래스 구현"
   ]
  },
  {
   "cell_type": "code",
   "execution_count": 21,
   "metadata": {},
   "outputs": [],
   "source": [
    "import sys, os\n",
    "from common.functions import *\n",
    "from common.gradient import numerical_gradient"
   ]
  },
  {
   "cell_type": "code",
   "execution_count": 22,
   "metadata": {},
   "outputs": [],
   "source": [
    "class TwoLayeredNet:\n",
    "    def __init__(self, input_size, hidden_size, output_size, weight_init_std=0.01):\n",
    "        self.params = {}\n",
    "        self.params['w1'] = weight_init_std * np.random.randn(input_size, hidden_size)\n",
    "        self.params['b1'] = np.zeros(hidden_size)\n",
    "        self.params['w2'] = weight_init_std * np.random.randn(hidden_size, output_size)\n",
    "        self.params['b2'] = np.zeros(output_size)\n",
    "        \n",
    "    def predict(self, x):\n",
    "        w1, w2 = self.params['w1'], self.params['w2']\n",
    "        b1, b2 = self.params['b1'], self.params['b2']\n",
    "        \n",
    "        a1 = np.dot(x, w1) + b1\n",
    "        z1 = sigmoid(a1)\n",
    "        a2 = np.dot(z1, w2) + b2\n",
    "        y = softmax(a2)\n",
    "        \n",
    "        return y\n",
    "    \n",
    "    def loss(self, x, t):\n",
    "        y = self.predict(x)\n",
    "        y = np.argmax(y, axis=1)\n",
    "        t = np.argmax(t, axis=1)\n",
    "        \n",
    "        accuracy = np.sum(y == t) / float(x.shape[0])\n",
    "        return accuracy\n",
    "    \n",
    "    def numerical_gradient(self, x, t):\n",
    "        loss_w = lambda w: self.loss(x, t)\n",
    "        \n",
    "        grads = {}\n",
    "        grads['w1'] = numerical_gradient(loss_w, self.params['w1'])\n",
    "        grads['b1'] = numerical_gradient(loss_w, self.params['b1'])\n",
    "        grads['w2'] = numerical_gradient(loss_w, self.params['w2'])\n",
    "        grads['b2'] = numerical_gradient(loss_w, self.params['b2'])\n",
    "        \n",
    "        return grads"
   ]
  },
  {
   "cell_type": "code",
   "execution_count": 23,
   "metadata": {},
   "outputs": [
    {
     "name": "stdout",
     "output_type": "stream",
     "text": [
      "(784, 100)\n",
      "(100,)\n",
      "(100, 10)\n",
      "(10,)\n"
     ]
    }
   ],
   "source": [
    "net = TwoLayeredNet(input_size=784, hidden_size=100, output_size=10)\n",
    "print(net.params['w1'].shape)\n",
    "print(net.params['b1'].shape)\n",
    "print(net.params['w2'].shape)\n",
    "print(net.params['b2'].shape)"
   ]
  },
  {
   "cell_type": "code",
   "execution_count": 24,
   "metadata": {},
   "outputs": [],
   "source": [
    "dummy_batch = np.random.rand(100, 784)\n",
    "y = net.predict(dummy_batch)"
   ]
  },
  {
   "cell_type": "code",
   "execution_count": 25,
   "metadata": {},
   "outputs": [
    {
     "name": "stdout",
     "output_type": "stream",
     "text": [
      "(784, 100)\n",
      "(100,)\n",
      "(100, 10)\n",
      "(10,)\n"
     ]
    }
   ],
   "source": [
    "x = np.random.rand(100, 784)\n",
    "t = np.random.rand(100, 10)\n",
    "\n",
    "grads = net.numerical_gradient(x, t)\n",
    "print(grads['w1'].shape)\n",
    "print(grads['b1'].shape)\n",
    "print(grads['w2'].shape)\n",
    "print(grads['b2'].shape)"
   ]
  },
  {
   "cell_type": "markdown",
   "metadata": {},
   "source": [
    "## 5.2. 미니배치 학습 구현\n",
    "\n",
    "고우"
   ]
  },
  {
   "cell_type": "code",
   "execution_count": 26,
   "metadata": {},
   "outputs": [],
   "source": [
    "from dataset.mnist import load_mnist\n",
    "\n",
    "(x_train, t_train), (x_test, t_test) = load_mnist(normalize=True, one_hot_label=True)"
   ]
  },
  {
   "cell_type": "code",
   "execution_count": 27,
   "metadata": {},
   "outputs": [],
   "source": [
    "train_loss_list = []\n",
    "iters_num = 10\n",
    "train_size = x_train.shape[0]\n",
    "batch_size = 100\n",
    "learning_rate = 0.1\n",
    "\n",
    "network = TwoLayeredNet(input_size=784, hidden_size=50, output_size=10)\n",
    "\n",
    "for i in range(iters_num):\n",
    "    batch_mask = np.random.choice(train_size, batch_size)\n",
    "    x_batch = x_train[batch_mask]\n",
    "    t_batch = t_train[batch_mask]\n",
    "    \n",
    "    grad = network.numerical_gradient(x_batch, t_batch)\n",
    "    \n",
    "    for key in ('w1', 'b1', 'w2', 'b2'):\n",
    "        network.params[key] -= learning_rate * grad[key]\n",
    "        \n",
    "    loss = network.loss(x_batch, t_batch)\n",
    "    train_loss_list.append(loss)"
   ]
  },
  {
   "cell_type": "code",
   "execution_count": 31,
   "metadata": {
    "pycharm": {
     "name": "#%%\n"
    }
   },
   "outputs": [
    {
     "data": {
      "text/plain": [
       "{'w1': array([[ 5.32424188e-03, -6.23007303e-03,  3.94590544e-03, ...,\n",
       "          5.84745760e-03, -9.68327753e-03,  1.12151028e-02],\n",
       "        [ 6.83890461e-03,  7.06311672e-03, -2.16435705e-02, ...,\n",
       "          1.56054452e-02,  1.25617366e-02, -7.34370266e-03],\n",
       "        [ 5.22315152e-03, -3.68997708e-03, -7.24111568e-03, ...,\n",
       "         -9.68395488e-03, -1.01718699e-02,  8.73454935e-03],\n",
       "        ...,\n",
       "        [-1.42063446e-02, -9.48314620e-03, -1.18152517e-02, ...,\n",
       "          1.01770451e-02,  7.81080487e-03,  1.50252103e-02],\n",
       "        [ 1.47430236e-02,  9.58601095e-03, -1.86570729e-02, ...,\n",
       "          8.54826052e-03, -1.76922572e-02, -1.09216574e-02],\n",
       "        [-1.22833943e-02,  2.71911646e-02, -6.32204384e-05, ...,\n",
       "          3.28027906e-03, -7.68203900e-03,  6.25283530e-03]]),\n",
       " 'b1': array([0., 0., 0., 0., 0., 0., 0., 0., 0., 0., 0., 0., 0., 0., 0., 0., 0.,\n",
       "        0., 0., 0., 0., 0., 0., 0., 0., 0., 0., 0., 0., 0., 0., 0., 0., 0.,\n",
       "        0., 0., 0., 0., 0., 0., 0., 0., 0., 0., 0., 0., 0., 0., 0., 0.]),\n",
       " 'w2': array([[ 1.15935157e-03, -1.07152745e-02,  7.87791957e-03,\n",
       "          9.69180130e-03, -5.53156725e-04,  9.55246034e-03,\n",
       "          1.26247021e-02, -4.83511402e-04,  1.36217461e-02,\n",
       "          5.06993743e-04],\n",
       "        [ 1.12446990e-02, -9.77945567e-03,  5.88092714e-03,\n",
       "          5.15792057e-04, -7.28970085e-03, -1.36578155e-02,\n",
       "         -6.80251621e-03,  9.31591714e-04,  8.77524581e-03,\n",
       "          1.43976485e-02],\n",
       "        [ 1.06997034e-02,  1.78304435e-02,  1.84406042e-02,\n",
       "          1.85920073e-03,  3.08178037e-03, -1.13036811e-02,\n",
       "          4.99855816e-03, -4.94772661e-03,  4.62626373e-03,\n",
       "         -3.70154602e-04],\n",
       "        [-6.24464041e-03,  5.48679207e-03,  4.86600809e-03,\n",
       "         -5.46487342e-03,  1.07971994e-02, -2.69546998e-03,\n",
       "          1.68948783e-02, -1.40900658e-02, -5.74424971e-03,\n",
       "          6.47443312e-04],\n",
       "        [ 7.89198900e-03, -3.36341952e-03, -1.63673664e-02,\n",
       "          6.05165766e-03, -8.61125299e-03, -3.21004108e-03,\n",
       "         -1.14763106e-03,  1.31459808e-02, -1.86844779e-02,\n",
       "         -3.10828475e-03],\n",
       "        [-4.50135298e-03,  1.60892733e-02,  1.89582363e-02,\n",
       "         -8.01890518e-03, -4.24678406e-03, -2.47633890e-02,\n",
       "         -1.10957496e-02, -1.08690646e-02, -4.14860972e-03,\n",
       "         -1.69691094e-02],\n",
       "        [-9.68061479e-03,  1.20062610e-02,  2.11436451e-03,\n",
       "         -6.73045794e-03, -2.40440595e-04,  1.23979619e-02,\n",
       "          9.08457745e-03,  2.73076807e-03,  6.57383575e-03,\n",
       "          4.53680547e-03],\n",
       "        [ 6.41002283e-03, -7.86309813e-03,  4.69162126e-03,\n",
       "         -8.25419003e-04, -1.02367464e-02, -7.09778495e-03,\n",
       "          2.89594982e-03, -1.16255344e-02, -3.81084173e-03,\n",
       "          3.27785129e-03],\n",
       "        [-1.31489019e-02, -7.12086582e-04, -1.25904657e-02,\n",
       "          1.67971961e-03,  6.09866383e-03, -1.43485332e-03,\n",
       "          3.98957709e-03,  1.85088073e-02,  9.54462670e-04,\n",
       "         -1.94924938e-06],\n",
       "        [ 5.23121007e-03,  3.51797545e-04,  1.29796322e-04,\n",
       "          3.36011604e-03,  6.00665848e-03,  9.58300902e-03,\n",
       "          4.82880586e-03, -1.12096370e-02,  3.46653066e-03,\n",
       "          2.43459975e-02],\n",
       "        [ 9.76808303e-03,  2.85925523e-04,  9.58668025e-03,\n",
       "         -7.12424115e-03, -1.46376717e-02,  1.58426930e-02,\n",
       "          1.85925756e-02,  1.19024742e-02,  4.22868309e-03,\n",
       "         -1.58170973e-02],\n",
       "        [-2.97152231e-03, -1.04841792e-02, -1.37796347e-02,\n",
       "          2.11959533e-03,  6.41301437e-03, -6.08507681e-04,\n",
       "         -6.03295698e-04, -1.33442771e-02,  4.62061293e-04,\n",
       "          2.93742652e-03],\n",
       "        [-1.08225992e-03, -4.75434876e-03, -1.00052528e-02,\n",
       "         -6.41961313e-03,  2.88926501e-03, -2.49912962e-03,\n",
       "          2.73623023e-02,  1.08137380e-03,  1.13470938e-02,\n",
       "          7.38987055e-03],\n",
       "        [-4.08695532e-03,  4.71518601e-03,  2.52483502e-03,\n",
       "         -2.48353199e-03,  4.02330469e-03,  8.14028480e-03,\n",
       "          8.74246447e-03, -7.32058917e-03,  6.85360607e-03,\n",
       "         -9.85261863e-03],\n",
       "        [ 7.30560797e-03, -8.25529863e-04, -1.40895615e-03,\n",
       "          1.07859870e-02, -2.92161660e-02,  8.07976187e-04,\n",
       "          9.51773919e-03,  4.76804362e-03,  2.22431948e-02,\n",
       "          8.01828196e-03],\n",
       "        [-1.13505413e-02, -2.26036653e-03, -1.64760627e-02,\n",
       "         -2.27537026e-03,  8.80113302e-03,  1.04901523e-02,\n",
       "         -1.55422884e-02,  1.87701980e-03, -6.10039064e-03,\n",
       "          5.12345199e-03],\n",
       "        [ 1.07360231e-02, -9.39196288e-03,  1.29184669e-02,\n",
       "          1.50264779e-02,  1.49765189e-02,  1.81978500e-02,\n",
       "         -9.22192287e-03,  8.72869530e-03,  5.47235407e-03,\n",
       "          2.49202052e-04],\n",
       "        [ 1.17111619e-02,  7.73492595e-03, -2.04278363e-02,\n",
       "          1.28601172e-02,  1.05411506e-02,  1.01712273e-02,\n",
       "          1.00260732e-02,  1.71121285e-03, -4.60045421e-03,\n",
       "          1.30703880e-02],\n",
       "        [ 3.16578934e-03,  2.64606160e-02,  3.96022943e-03,\n",
       "          3.27835759e-03,  1.15378832e-02, -3.51950469e-03,\n",
       "         -3.52409732e-04,  1.11896318e-02,  2.62671906e-03,\n",
       "          4.77788933e-03],\n",
       "        [-1.21163455e-02,  1.84633476e-03, -1.63111459e-03,\n",
       "         -7.07276109e-03, -1.53409177e-02, -8.04977878e-03,\n",
       "          2.08205802e-02,  6.87209466e-03,  1.34013995e-02,\n",
       "         -6.79177260e-03],\n",
       "        [ 3.81435260e-03,  3.53134738e-03, -1.10390359e-02,\n",
       "         -2.85883254e-03, -1.67505730e-02, -4.49705868e-03,\n",
       "         -1.13451474e-03, -1.20704455e-02, -6.97943189e-03,\n",
       "          4.57980370e-03],\n",
       "        [-1.39502564e-02,  5.06666911e-03,  1.07212958e-02,\n",
       "          2.37854616e-02,  1.10736906e-02, -9.45606269e-03,\n",
       "          1.65941342e-02,  2.75467366e-03, -6.77571783e-03,\n",
       "          1.20190491e-02],\n",
       "        [-7.97523729e-05, -8.75570428e-03,  1.34291371e-02,\n",
       "          1.03978923e-02, -7.42850509e-03, -1.92077349e-03,\n",
       "         -3.24411396e-03, -1.96087647e-02, -1.26664133e-03,\n",
       "          9.96433244e-03],\n",
       "        [ 1.87129142e-02,  4.72682566e-03, -1.92504811e-04,\n",
       "         -2.68127563e-03,  2.49964206e-02,  7.69990750e-03,\n",
       "         -7.42639941e-03, -1.22393200e-02, -7.96259093e-03,\n",
       "         -3.07584720e-03],\n",
       "        [-2.14649032e-02, -1.21545127e-02,  1.80383560e-02,\n",
       "          3.74533894e-04,  2.45405923e-03, -1.35315024e-02,\n",
       "          6.13267185e-03, -3.55494125e-03, -3.84309077e-03,\n",
       "         -4.51120294e-03],\n",
       "        [-4.39681243e-03,  2.18965805e-02, -2.12082069e-02,\n",
       "         -1.92249303e-03, -1.73857647e-03,  4.01737487e-03,\n",
       "          1.60951310e-02, -4.92360651e-03,  9.47459124e-03,\n",
       "         -1.17702990e-02],\n",
       "        [ 8.98896562e-04, -1.67720533e-04, -1.32357392e-02,\n",
       "         -2.53563587e-02, -1.16390727e-02,  6.53758303e-03,\n",
       "          1.90641833e-03,  2.32000981e-02, -1.39460376e-02,\n",
       "          6.66739155e-03],\n",
       "        [-2.09301822e-02, -4.86870332e-03, -1.43571950e-02,\n",
       "          1.09727571e-02, -4.87367544e-04,  4.30863023e-04,\n",
       "         -2.94850011e-03,  5.13730337e-03,  7.38843162e-03,\n",
       "          2.40441812e-02],\n",
       "        [ 9.04611358e-04,  1.03830565e-02,  9.52678984e-03,\n",
       "         -1.18787279e-03, -2.21886547e-03, -6.48564994e-03,\n",
       "         -3.66970763e-03, -5.85941575e-04,  1.40660979e-02,\n",
       "          3.74074881e-03],\n",
       "        [ 2.69533031e-02, -6.70934048e-03, -4.64065926e-03,\n",
       "         -4.98814953e-04,  1.66106011e-02, -5.78934551e-04,\n",
       "          9.84538084e-03, -1.62983318e-02,  1.63808726e-02,\n",
       "          9.69098735e-03],\n",
       "        [-5.93429212e-04,  4.21657005e-03,  1.90479019e-02,\n",
       "         -9.65391590e-03,  2.25031091e-03, -5.93775715e-03,\n",
       "         -2.44204960e-02, -6.50902803e-04,  8.99581678e-03,\n",
       "         -2.34792876e-02],\n",
       "        [ 1.08735776e-02, -5.60234639e-03,  1.96879211e-02,\n",
       "         -8.35218662e-04, -8.68047159e-03, -7.45348924e-03,\n",
       "         -4.68354492e-03, -6.36665741e-03,  2.76347504e-03,\n",
       "          1.13419169e-03],\n",
       "        [ 1.00768197e-02, -1.67119552e-02,  9.11510045e-03,\n",
       "         -4.93923605e-03, -1.61528813e-02,  5.24035722e-03,\n",
       "          6.17311574e-03,  2.87402531e-03,  1.05017312e-02,\n",
       "         -2.42233115e-03],\n",
       "        [ 1.49335727e-04,  3.33416945e-03, -1.37582686e-03,\n",
       "         -1.88871863e-02,  7.75269590e-04,  1.39572712e-02,\n",
       "         -9.47276103e-03, -2.91717477e-03, -1.22688679e-03,\n",
       "         -1.25592907e-02],\n",
       "        [ 3.71928384e-03,  2.09575751e-02,  2.82614490e-03,\n",
       "          1.14102646e-02,  1.11553289e-02, -1.83844084e-02,\n",
       "         -6.73916647e-03,  5.24529968e-03, -9.06835274e-03,\n",
       "          1.21720817e-02],\n",
       "        [ 1.67416254e-03, -1.70227044e-02, -3.95848690e-03,\n",
       "         -9.61346386e-03, -3.09200061e-03,  6.65942427e-03,\n",
       "          6.54972576e-03,  2.35391989e-03,  4.05139531e-03,\n",
       "          1.38150755e-03],\n",
       "        [-4.50909896e-03,  1.39961602e-02,  7.76838119e-03,\n",
       "          9.35938352e-03, -1.32148327e-02,  1.11944657e-02,\n",
       "         -6.94248651e-03,  1.00281633e-02, -6.36713392e-03,\n",
       "         -1.18561541e-02],\n",
       "        [-1.53710731e-02,  1.25886362e-02,  3.47950201e-03,\n",
       "          5.39820297e-03, -1.49676076e-02, -1.15734335e-02,\n",
       "          2.05218664e-03, -4.39693980e-03,  3.87792927e-03,\n",
       "         -1.20185269e-02],\n",
       "        [ 4.83716876e-03,  1.72880007e-02, -1.91331645e-02,\n",
       "         -2.26338736e-03, -7.17155425e-03,  1.07997822e-02,\n",
       "          1.54306441e-02,  1.32785642e-02, -2.96061666e-03,\n",
       "          4.49589195e-03],\n",
       "        [ 4.10169148e-03,  2.68912429e-03,  4.78809836e-04,\n",
       "          1.36628765e-02,  1.51499405e-04,  7.72341154e-03,\n",
       "         -1.58074545e-03, -3.16216143e-02,  6.46753072e-03,\n",
       "         -4.15529973e-03],\n",
       "        [-5.32359626e-04,  1.33358825e-02, -1.68731687e-02,\n",
       "          5.57255496e-03, -1.21725141e-02,  5.22764451e-03,\n",
       "          4.43274170e-04,  9.24937764e-04, -8.60552445e-03,\n",
       "          1.18040811e-02],\n",
       "        [-8.92438647e-03,  1.08603805e-02, -7.62916713e-03,\n",
       "          6.70692462e-03, -1.09043690e-03,  6.23206631e-03,\n",
       "          1.81545126e-02,  6.43697508e-03, -4.07712849e-04,\n",
       "         -1.08898240e-02],\n",
       "        [-2.28695485e-04,  5.92325469e-03, -9.33805858e-03,\n",
       "         -5.42565473e-03,  4.67312344e-03, -9.58629300e-03,\n",
       "          9.68133148e-03, -2.49863506e-03,  1.46013198e-02,\n",
       "         -6.78230228e-03],\n",
       "        [-9.73872264e-03, -6.72676746e-03,  4.16663782e-03,\n",
       "          5.53445641e-03,  6.96731743e-03, -1.29347178e-02,\n",
       "         -3.11196642e-03,  7.44682050e-03,  6.06141073e-03,\n",
       "         -8.96267636e-03],\n",
       "        [ 3.35869386e-03, -5.20871739e-03,  4.72305402e-03,\n",
       "          9.34711013e-03, -3.93508744e-03, -2.08383593e-02,\n",
       "         -1.08949596e-02, -4.09589656e-03, -3.88145451e-03,\n",
       "         -6.43831426e-03],\n",
       "        [-2.88602832e-03,  4.01439606e-03, -3.98326156e-03,\n",
       "         -1.45514835e-02,  1.93166313e-05, -1.83906673e-02,\n",
       "          2.09031602e-02,  3.86052950e-03,  1.52864998e-02,\n",
       "         -1.54422754e-02],\n",
       "        [ 1.21601223e-04,  7.55125725e-03,  9.84777647e-03,\n",
       "          5.24008939e-03,  1.41158208e-02, -3.51741809e-03,\n",
       "         -6.33796478e-03,  2.79069547e-03, -8.80804192e-03,\n",
       "         -6.48983471e-04],\n",
       "        [ 5.88482456e-03, -4.54068518e-04, -2.08599721e-02,\n",
       "         -6.50186317e-03,  1.52620054e-02,  6.83120112e-03,\n",
       "         -1.18247478e-02, -1.62032064e-02,  1.86934608e-02,\n",
       "         -1.25314876e-03],\n",
       "        [-4.04118178e-04, -8.62348706e-04,  1.06045252e-02,\n",
       "          5.20216115e-03,  4.19341062e-03, -1.86170553e-02,\n",
       "          2.05138272e-03, -8.26935142e-03, -4.79455544e-03,\n",
       "          1.17801051e-02],\n",
       "        [-2.31334922e-03, -1.16412266e-02,  6.25578058e-04,\n",
       "          3.86488094e-03, -6.70422734e-03, -6.51875596e-03,\n",
       "         -1.21785870e-02, -9.12775560e-04,  2.11213380e-03,\n",
       "         -2.15063455e-02]]),\n",
       " 'b2': array([0., 0., 0., 0., 0., 0., 0., 0., 0., 0.])}"
      ]
     },
     "execution_count": 31,
     "metadata": {},
     "output_type": "execute_result"
    }
   ],
   "source": [
    "network.params"
   ]
  }
 ],
 "metadata": {
  "kernelspec": {
   "display_name": "Python 3",
   "language": "python",
   "name": "python3"
  },
  "language_info": {
   "codemirror_mode": {
    "name": "ipython",
    "version": 3
   },
   "file_extension": ".py",
   "mimetype": "text/x-python",
   "name": "python",
   "nbconvert_exporter": "python",
   "pygments_lexer": "ipython3",
   "version": "3.7.3"
  },
  "pycharm": {
   "stem_cell": {
    "cell_type": "raw",
    "source": [],
    "metadata": {
     "collapsed": false
    }
   }
  }
 },
 "nbformat": 4,
 "nbformat_minor": 2
}